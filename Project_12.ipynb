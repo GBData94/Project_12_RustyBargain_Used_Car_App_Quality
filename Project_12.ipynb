{
 "cells": [
  {
   "cell_type": "markdown",
   "metadata": {},
   "source": [
    "Please find my comments below - **I kindly ask that you do not move, modify, or delete them**.\n",
    "\n",
    "You can find my comments in green, yellow or red boxes like this:\n",
    "\n",
    "<div class=\"alert alert-block alert-success\">\n",
    "<b>Reviewer's comment</b> <a class=\"tocSkip\"></a>\n",
    "\n",
    "Success. Everything is done succesfully.\n",
    "</div>\n",
    "\n",
    "<div class=\"alert alert-block alert-warning\">\n",
    "<b>Reviewer's comment</b> <a class=\"tocSkip\"></a>\n",
    "\n",
    "Remarks. Some recommendations.\n",
    "</div>\n",
    "\n",
    "<div class=\"alert alert-block alert-danger\">\n",
    "\n",
    "<b>Reviewer's comment</b> <a class=\"tocSkip\"></a>\n",
    "\n",
    "Needs fixing. The block requires some corrections. Work can't be accepted with the red comments.\n",
    "</div>\n",
    "\n",
    "You can answer me by using this:\n",
    "\n",
    "<div class=\"alert alert-block alert-info\">\n",
    "<b>Student answer.</b> <a class=\"tocSkip\"></a>\n",
    "\n",
    "Text here.\n",
    "</div>\n"
   ]
  },
  {
   "cell_type": "markdown",
   "metadata": {},
   "source": [
    "<div class=\"alert alert-block alert-success\">\n",
    "<b>Overall reviewer's comment</b> <a class=\"tocSkip\"></a>\n",
    "\n",
    "Hello George,\n",
    "    \n",
    "Another project successfully completed - well done! 🏆 Your consistent effort and progress are truly commendable.\n",
    "    \n",
    "Our team is here to help you keep pushing forward and honing your skills as you advance through the program.\n",
    "    \n",
    "What Was Great:\n",
    "- Good project structure\n",
    "- High code level\n",
    "- Great data preprocessing\n",
    "\n",
    "Tips for Future Projects:\n",
    "- It's a good practice to present comparison in dataframe (all in one table)\n",
    "    \n",
    "Congratulations again on your accomplishment! Each project you complete adds to your growing expertise, and it’s exciting to see you make such great strides. Keep up the great work! 🎯\n",
    "</div>"
   ]
  },
  {
   "cell_type": "markdown",
   "metadata": {},
   "source": [
    "Rusty Bargain used car sales service is developing an app to attract new customers. In that app, you can quickly find out the market value of your car. You have access to historical data: technical specifications, trim versions, and prices. You need to build the model to determine the value. \n",
    "\n",
    "Rusty Bargain is interested in:\n",
    "\n",
    "- the quality of the prediction;\n",
    "- the speed of the prediction;\n",
    "- the time required for training"
   ]
  },
  {
   "cell_type": "markdown",
   "metadata": {},
   "source": [
    "## Data preparation"
   ]
  },
  {
   "cell_type": "code",
   "execution_count": 1,
   "metadata": {},
   "outputs": [],
   "source": [
    "import pandas as pd\n",
    "import time\n",
    "import numpy as np\n",
    "import matplotlib.pyplot as plt\n",
    "import seaborn as sns\n",
    "from sklearn.model_selection import train_test_split\n",
    "from sklearn.linear_model import LinearRegression\n",
    "from sklearn.tree import DecisionTreeRegressor\n",
    "from sklearn.ensemble import RandomForestRegressor\n",
    "from sklearn.metrics import mean_squared_error\n",
    "from sklearn.preprocessing import OneHotEncoder, StandardScaler\n",
    "from sklearn.model_selection import RandomizedSearchCV\n",
    "from lightgbm import LGBMRegressor\n",
    "from xgboost import XGBRegressor\n",
    "from catboost import CatBoostRegressor"
   ]
  },
  {
   "cell_type": "code",
   "execution_count": 2,
   "metadata": {},
   "outputs": [],
   "source": [
    "car_data = pd.read_csv('/datasets/car_data.csv')"
   ]
  },
  {
   "cell_type": "code",
   "execution_count": 3,
   "metadata": {},
   "outputs": [
    {
     "name": "stdout",
     "output_type": "stream",
     "text": [
      "<class 'pandas.core.frame.DataFrame'>\n",
      "RangeIndex: 354369 entries, 0 to 354368\n",
      "Data columns (total 16 columns):\n",
      " #   Column             Non-Null Count   Dtype \n",
      "---  ------             --------------   ----- \n",
      " 0   DateCrawled        354369 non-null  object\n",
      " 1   Price              354369 non-null  int64 \n",
      " 2   VehicleType        316879 non-null  object\n",
      " 3   RegistrationYear   354369 non-null  int64 \n",
      " 4   Gearbox            334536 non-null  object\n",
      " 5   Power              354369 non-null  int64 \n",
      " 6   Model              334664 non-null  object\n",
      " 7   Mileage            354369 non-null  int64 \n",
      " 8   RegistrationMonth  354369 non-null  int64 \n",
      " 9   FuelType           321474 non-null  object\n",
      " 10  Brand              354369 non-null  object\n",
      " 11  NotRepaired        283215 non-null  object\n",
      " 12  DateCreated        354369 non-null  object\n",
      " 13  NumberOfPictures   354369 non-null  int64 \n",
      " 14  PostalCode         354369 non-null  int64 \n",
      " 15  LastSeen           354369 non-null  object\n",
      "dtypes: int64(7), object(9)\n",
      "memory usage: 43.3+ MB\n"
     ]
    }
   ],
   "source": [
    "car_data.info()"
   ]
  },
  {
   "cell_type": "code",
   "execution_count": 4,
   "metadata": {},
   "outputs": [
    {
     "data": {
      "text/plain": [
       "<bound method NDFrame.describe of              DateCrawled  Price  VehicleType  RegistrationYear Gearbox  Power  \\\n",
       "0       24/03/2016 11:52    480          NaN              1993  manual      0   \n",
       "1       24/03/2016 10:58  18300        coupe              2011  manual    190   \n",
       "2       14/03/2016 12:52   9800          suv              2004    auto    163   \n",
       "3       17/03/2016 16:54   1500        small              2001  manual     75   \n",
       "4       31/03/2016 17:25   3600        small              2008  manual     69   \n",
       "...                  ...    ...          ...               ...     ...    ...   \n",
       "354364  21/03/2016 09:50      0          NaN              2005  manual      0   \n",
       "354365  14/03/2016 17:48   2200          NaN              2005     NaN      0   \n",
       "354366  05/03/2016 19:56   1199  convertible              2000    auto    101   \n",
       "354367  19/03/2016 18:57   9200          bus              1996  manual    102   \n",
       "354368  20/03/2016 19:41   3400        wagon              2002  manual    100   \n",
       "\n",
       "              Model  Mileage  RegistrationMonth  FuelType           Brand  \\\n",
       "0              golf   150000                  0    petrol      volkswagen   \n",
       "1               NaN   125000                  5  gasoline            audi   \n",
       "2             grand   125000                  8  gasoline            jeep   \n",
       "3              golf   150000                  6    petrol      volkswagen   \n",
       "4             fabia    90000                  7  gasoline           skoda   \n",
       "...             ...      ...                ...       ...             ...   \n",
       "354364         colt   150000                  7    petrol      mitsubishi   \n",
       "354365          NaN    20000                  1       NaN  sonstige_autos   \n",
       "354366       fortwo   125000                  3    petrol           smart   \n",
       "354367  transporter   150000                  3  gasoline      volkswagen   \n",
       "354368         golf   150000                  6  gasoline      volkswagen   \n",
       "\n",
       "       NotRepaired       DateCreated  NumberOfPictures  PostalCode  \\\n",
       "0              NaN  24/03/2016 00:00                 0       70435   \n",
       "1              yes  24/03/2016 00:00                 0       66954   \n",
       "2              NaN  14/03/2016 00:00                 0       90480   \n",
       "3               no  17/03/2016 00:00                 0       91074   \n",
       "4               no  31/03/2016 00:00                 0       60437   \n",
       "...            ...               ...               ...         ...   \n",
       "354364         yes  21/03/2016 00:00                 0        2694   \n",
       "354365         NaN  14/03/2016 00:00                 0       39576   \n",
       "354366          no  05/03/2016 00:00                 0       26135   \n",
       "354367          no  19/03/2016 00:00                 0       87439   \n",
       "354368         NaN  20/03/2016 00:00                 0       40764   \n",
       "\n",
       "                LastSeen  \n",
       "0       07/04/2016 03:16  \n",
       "1       07/04/2016 01:46  \n",
       "2       05/04/2016 12:47  \n",
       "3       17/03/2016 17:40  \n",
       "4       06/04/2016 10:17  \n",
       "...                  ...  \n",
       "354364  21/03/2016 10:42  \n",
       "354365  06/04/2016 00:46  \n",
       "354366  11/03/2016 18:17  \n",
       "354367  07/04/2016 07:15  \n",
       "354368  24/03/2016 12:45  \n",
       "\n",
       "[354369 rows x 16 columns]>"
      ]
     },
     "execution_count": 4,
     "metadata": {},
     "output_type": "execute_result"
    }
   ],
   "source": [
    "car_data.describe"
   ]
  },
  {
   "cell_type": "code",
   "execution_count": 5,
   "metadata": {},
   "outputs": [
    {
     "data": {
      "text/html": [
       "<div>\n",
       "<style scoped>\n",
       "    .dataframe tbody tr th:only-of-type {\n",
       "        vertical-align: middle;\n",
       "    }\n",
       "\n",
       "    .dataframe tbody tr th {\n",
       "        vertical-align: top;\n",
       "    }\n",
       "\n",
       "    .dataframe thead th {\n",
       "        text-align: right;\n",
       "    }\n",
       "</style>\n",
       "<table border=\"1\" class=\"dataframe\">\n",
       "  <thead>\n",
       "    <tr style=\"text-align: right;\">\n",
       "      <th></th>\n",
       "      <th>DateCrawled</th>\n",
       "      <th>Price</th>\n",
       "      <th>VehicleType</th>\n",
       "      <th>RegistrationYear</th>\n",
       "      <th>Gearbox</th>\n",
       "      <th>Power</th>\n",
       "      <th>Model</th>\n",
       "      <th>Mileage</th>\n",
       "      <th>RegistrationMonth</th>\n",
       "      <th>FuelType</th>\n",
       "      <th>Brand</th>\n",
       "      <th>NotRepaired</th>\n",
       "      <th>DateCreated</th>\n",
       "      <th>NumberOfPictures</th>\n",
       "      <th>PostalCode</th>\n",
       "      <th>LastSeen</th>\n",
       "    </tr>\n",
       "  </thead>\n",
       "  <tbody>\n",
       "    <tr>\n",
       "      <th>0</th>\n",
       "      <td>24/03/2016 11:52</td>\n",
       "      <td>480</td>\n",
       "      <td>NaN</td>\n",
       "      <td>1993</td>\n",
       "      <td>manual</td>\n",
       "      <td>0</td>\n",
       "      <td>golf</td>\n",
       "      <td>150000</td>\n",
       "      <td>0</td>\n",
       "      <td>petrol</td>\n",
       "      <td>volkswagen</td>\n",
       "      <td>NaN</td>\n",
       "      <td>24/03/2016 00:00</td>\n",
       "      <td>0</td>\n",
       "      <td>70435</td>\n",
       "      <td>07/04/2016 03:16</td>\n",
       "    </tr>\n",
       "    <tr>\n",
       "      <th>1</th>\n",
       "      <td>24/03/2016 10:58</td>\n",
       "      <td>18300</td>\n",
       "      <td>coupe</td>\n",
       "      <td>2011</td>\n",
       "      <td>manual</td>\n",
       "      <td>190</td>\n",
       "      <td>NaN</td>\n",
       "      <td>125000</td>\n",
       "      <td>5</td>\n",
       "      <td>gasoline</td>\n",
       "      <td>audi</td>\n",
       "      <td>yes</td>\n",
       "      <td>24/03/2016 00:00</td>\n",
       "      <td>0</td>\n",
       "      <td>66954</td>\n",
       "      <td>07/04/2016 01:46</td>\n",
       "    </tr>\n",
       "    <tr>\n",
       "      <th>2</th>\n",
       "      <td>14/03/2016 12:52</td>\n",
       "      <td>9800</td>\n",
       "      <td>suv</td>\n",
       "      <td>2004</td>\n",
       "      <td>auto</td>\n",
       "      <td>163</td>\n",
       "      <td>grand</td>\n",
       "      <td>125000</td>\n",
       "      <td>8</td>\n",
       "      <td>gasoline</td>\n",
       "      <td>jeep</td>\n",
       "      <td>NaN</td>\n",
       "      <td>14/03/2016 00:00</td>\n",
       "      <td>0</td>\n",
       "      <td>90480</td>\n",
       "      <td>05/04/2016 12:47</td>\n",
       "    </tr>\n",
       "    <tr>\n",
       "      <th>3</th>\n",
       "      <td>17/03/2016 16:54</td>\n",
       "      <td>1500</td>\n",
       "      <td>small</td>\n",
       "      <td>2001</td>\n",
       "      <td>manual</td>\n",
       "      <td>75</td>\n",
       "      <td>golf</td>\n",
       "      <td>150000</td>\n",
       "      <td>6</td>\n",
       "      <td>petrol</td>\n",
       "      <td>volkswagen</td>\n",
       "      <td>no</td>\n",
       "      <td>17/03/2016 00:00</td>\n",
       "      <td>0</td>\n",
       "      <td>91074</td>\n",
       "      <td>17/03/2016 17:40</td>\n",
       "    </tr>\n",
       "    <tr>\n",
       "      <th>4</th>\n",
       "      <td>31/03/2016 17:25</td>\n",
       "      <td>3600</td>\n",
       "      <td>small</td>\n",
       "      <td>2008</td>\n",
       "      <td>manual</td>\n",
       "      <td>69</td>\n",
       "      <td>fabia</td>\n",
       "      <td>90000</td>\n",
       "      <td>7</td>\n",
       "      <td>gasoline</td>\n",
       "      <td>skoda</td>\n",
       "      <td>no</td>\n",
       "      <td>31/03/2016 00:00</td>\n",
       "      <td>0</td>\n",
       "      <td>60437</td>\n",
       "      <td>06/04/2016 10:17</td>\n",
       "    </tr>\n",
       "    <tr>\n",
       "      <th>...</th>\n",
       "      <td>...</td>\n",
       "      <td>...</td>\n",
       "      <td>...</td>\n",
       "      <td>...</td>\n",
       "      <td>...</td>\n",
       "      <td>...</td>\n",
       "      <td>...</td>\n",
       "      <td>...</td>\n",
       "      <td>...</td>\n",
       "      <td>...</td>\n",
       "      <td>...</td>\n",
       "      <td>...</td>\n",
       "      <td>...</td>\n",
       "      <td>...</td>\n",
       "      <td>...</td>\n",
       "      <td>...</td>\n",
       "    </tr>\n",
       "    <tr>\n",
       "      <th>354364</th>\n",
       "      <td>21/03/2016 09:50</td>\n",
       "      <td>0</td>\n",
       "      <td>NaN</td>\n",
       "      <td>2005</td>\n",
       "      <td>manual</td>\n",
       "      <td>0</td>\n",
       "      <td>colt</td>\n",
       "      <td>150000</td>\n",
       "      <td>7</td>\n",
       "      <td>petrol</td>\n",
       "      <td>mitsubishi</td>\n",
       "      <td>yes</td>\n",
       "      <td>21/03/2016 00:00</td>\n",
       "      <td>0</td>\n",
       "      <td>2694</td>\n",
       "      <td>21/03/2016 10:42</td>\n",
       "    </tr>\n",
       "    <tr>\n",
       "      <th>354365</th>\n",
       "      <td>14/03/2016 17:48</td>\n",
       "      <td>2200</td>\n",
       "      <td>NaN</td>\n",
       "      <td>2005</td>\n",
       "      <td>NaN</td>\n",
       "      <td>0</td>\n",
       "      <td>NaN</td>\n",
       "      <td>20000</td>\n",
       "      <td>1</td>\n",
       "      <td>NaN</td>\n",
       "      <td>sonstige_autos</td>\n",
       "      <td>NaN</td>\n",
       "      <td>14/03/2016 00:00</td>\n",
       "      <td>0</td>\n",
       "      <td>39576</td>\n",
       "      <td>06/04/2016 00:46</td>\n",
       "    </tr>\n",
       "    <tr>\n",
       "      <th>354366</th>\n",
       "      <td>05/03/2016 19:56</td>\n",
       "      <td>1199</td>\n",
       "      <td>convertible</td>\n",
       "      <td>2000</td>\n",
       "      <td>auto</td>\n",
       "      <td>101</td>\n",
       "      <td>fortwo</td>\n",
       "      <td>125000</td>\n",
       "      <td>3</td>\n",
       "      <td>petrol</td>\n",
       "      <td>smart</td>\n",
       "      <td>no</td>\n",
       "      <td>05/03/2016 00:00</td>\n",
       "      <td>0</td>\n",
       "      <td>26135</td>\n",
       "      <td>11/03/2016 18:17</td>\n",
       "    </tr>\n",
       "    <tr>\n",
       "      <th>354367</th>\n",
       "      <td>19/03/2016 18:57</td>\n",
       "      <td>9200</td>\n",
       "      <td>bus</td>\n",
       "      <td>1996</td>\n",
       "      <td>manual</td>\n",
       "      <td>102</td>\n",
       "      <td>transporter</td>\n",
       "      <td>150000</td>\n",
       "      <td>3</td>\n",
       "      <td>gasoline</td>\n",
       "      <td>volkswagen</td>\n",
       "      <td>no</td>\n",
       "      <td>19/03/2016 00:00</td>\n",
       "      <td>0</td>\n",
       "      <td>87439</td>\n",
       "      <td>07/04/2016 07:15</td>\n",
       "    </tr>\n",
       "    <tr>\n",
       "      <th>354368</th>\n",
       "      <td>20/03/2016 19:41</td>\n",
       "      <td>3400</td>\n",
       "      <td>wagon</td>\n",
       "      <td>2002</td>\n",
       "      <td>manual</td>\n",
       "      <td>100</td>\n",
       "      <td>golf</td>\n",
       "      <td>150000</td>\n",
       "      <td>6</td>\n",
       "      <td>gasoline</td>\n",
       "      <td>volkswagen</td>\n",
       "      <td>NaN</td>\n",
       "      <td>20/03/2016 00:00</td>\n",
       "      <td>0</td>\n",
       "      <td>40764</td>\n",
       "      <td>24/03/2016 12:45</td>\n",
       "    </tr>\n",
       "  </tbody>\n",
       "</table>\n",
       "<p>354369 rows × 16 columns</p>\n",
       "</div>"
      ],
      "text/plain": [
       "             DateCrawled  Price  VehicleType  RegistrationYear Gearbox  Power  \\\n",
       "0       24/03/2016 11:52    480          NaN              1993  manual      0   \n",
       "1       24/03/2016 10:58  18300        coupe              2011  manual    190   \n",
       "2       14/03/2016 12:52   9800          suv              2004    auto    163   \n",
       "3       17/03/2016 16:54   1500        small              2001  manual     75   \n",
       "4       31/03/2016 17:25   3600        small              2008  manual     69   \n",
       "...                  ...    ...          ...               ...     ...    ...   \n",
       "354364  21/03/2016 09:50      0          NaN              2005  manual      0   \n",
       "354365  14/03/2016 17:48   2200          NaN              2005     NaN      0   \n",
       "354366  05/03/2016 19:56   1199  convertible              2000    auto    101   \n",
       "354367  19/03/2016 18:57   9200          bus              1996  manual    102   \n",
       "354368  20/03/2016 19:41   3400        wagon              2002  manual    100   \n",
       "\n",
       "              Model  Mileage  RegistrationMonth  FuelType           Brand  \\\n",
       "0              golf   150000                  0    petrol      volkswagen   \n",
       "1               NaN   125000                  5  gasoline            audi   \n",
       "2             grand   125000                  8  gasoline            jeep   \n",
       "3              golf   150000                  6    petrol      volkswagen   \n",
       "4             fabia    90000                  7  gasoline           skoda   \n",
       "...             ...      ...                ...       ...             ...   \n",
       "354364         colt   150000                  7    petrol      mitsubishi   \n",
       "354365          NaN    20000                  1       NaN  sonstige_autos   \n",
       "354366       fortwo   125000                  3    petrol           smart   \n",
       "354367  transporter   150000                  3  gasoline      volkswagen   \n",
       "354368         golf   150000                  6  gasoline      volkswagen   \n",
       "\n",
       "       NotRepaired       DateCreated  NumberOfPictures  PostalCode  \\\n",
       "0              NaN  24/03/2016 00:00                 0       70435   \n",
       "1              yes  24/03/2016 00:00                 0       66954   \n",
       "2              NaN  14/03/2016 00:00                 0       90480   \n",
       "3               no  17/03/2016 00:00                 0       91074   \n",
       "4               no  31/03/2016 00:00                 0       60437   \n",
       "...            ...               ...               ...         ...   \n",
       "354364         yes  21/03/2016 00:00                 0        2694   \n",
       "354365         NaN  14/03/2016 00:00                 0       39576   \n",
       "354366          no  05/03/2016 00:00                 0       26135   \n",
       "354367          no  19/03/2016 00:00                 0       87439   \n",
       "354368         NaN  20/03/2016 00:00                 0       40764   \n",
       "\n",
       "                LastSeen  \n",
       "0       07/04/2016 03:16  \n",
       "1       07/04/2016 01:46  \n",
       "2       05/04/2016 12:47  \n",
       "3       17/03/2016 17:40  \n",
       "4       06/04/2016 10:17  \n",
       "...                  ...  \n",
       "354364  21/03/2016 10:42  \n",
       "354365  06/04/2016 00:46  \n",
       "354366  11/03/2016 18:17  \n",
       "354367  07/04/2016 07:15  \n",
       "354368  24/03/2016 12:45  \n",
       "\n",
       "[354369 rows x 16 columns]"
      ]
     },
     "metadata": {},
     "output_type": "display_data"
    }
   ],
   "source": [
    "display(car_data)"
   ]
  },
  {
   "cell_type": "code",
   "execution_count": 6,
   "metadata": {},
   "outputs": [
    {
     "name": "stdout",
     "output_type": "stream",
     "text": [
      "<class 'pandas.core.frame.DataFrame'>\n",
      "Int64Index: 305061 entries, 1 to 354368\n",
      "Data columns (total 14 columns):\n",
      " #   Column             Non-Null Count   Dtype         \n",
      "---  ------             --------------   -----         \n",
      " 0   DateCrawled        305061 non-null  datetime64[ns]\n",
      " 1   Price              305061 non-null  int64         \n",
      " 2   VehicleType        305061 non-null  object        \n",
      " 3   RegistrationYear   305061 non-null  int64         \n",
      " 4   Gearbox            305061 non-null  object        \n",
      " 5   Power              305061 non-null  int64         \n",
      " 6   Model              305061 non-null  object        \n",
      " 7   Mileage            305061 non-null  int64         \n",
      " 8   RegistrationMonth  305061 non-null  int64         \n",
      " 9   FuelType           305061 non-null  object        \n",
      " 10  Brand              305061 non-null  object        \n",
      " 11  NotRepaired        305061 non-null  object        \n",
      " 12  DateCreated        305061 non-null  datetime64[ns]\n",
      " 13  LastSeen           305061 non-null  datetime64[ns]\n",
      "dtypes: datetime64[ns](3), int64(5), object(6)\n",
      "memory usage: 34.9+ MB\n"
     ]
    },
    {
     "data": {
      "text/plain": [
       "(None,\n",
       "                 DateCrawled          Price VehicleType  RegistrationYear  \\\n",
       " count                305061  305061.000000      305061     305061.000000   \n",
       " unique                15206            NaN           9               NaN   \n",
       " top     2016-05-03 14:25:00            NaN       sedan               NaN   \n",
       " freq                     60            NaN       82784               NaN   \n",
       " first   2016-01-04 00:06:00            NaN         NaN               NaN   \n",
       " last    2016-12-03 23:59:00            NaN         NaN               NaN   \n",
       " mean                    NaN    4840.252471         NaN       2003.324719   \n",
       " std                     NaN    4585.987267         NaN          6.939366   \n",
       " min                     NaN     101.000000         NaN       1910.000000   \n",
       " 25%                     NaN    1350.000000         NaN       1999.000000   \n",
       " 50%                     NaN    3199.000000         NaN       2003.000000   \n",
       " 75%                     NaN    6990.000000         NaN       2008.000000   \n",
       " max                     NaN   20000.000000         NaN       2019.000000   \n",
       " \n",
       "        Gearbox          Power   Model        Mileage  RegistrationMonth  \\\n",
       " count   305061  305061.000000  305061  305061.000000      305061.000000   \n",
       " unique       3            NaN     250            NaN                NaN   \n",
       " top     manual            NaN    golf            NaN                NaN   \n",
       " freq    238966            NaN   25844            NaN                NaN   \n",
       " first      NaN            NaN     NaN            NaN                NaN   \n",
       " last       NaN            NaN     NaN            NaN                NaN   \n",
       " mean       NaN     120.498372     NaN  128400.631349           5.973166   \n",
       " std        NaN      54.610164     NaN   36706.726145           3.595487   \n",
       " min        NaN       1.000000     NaN    5000.000000           0.000000   \n",
       " 25%        NaN      75.000000     NaN  125000.000000           3.000000   \n",
       " 50%        NaN     110.000000     NaN  150000.000000           6.000000   \n",
       " 75%        NaN     150.000000     NaN  150000.000000           9.000000   \n",
       " max        NaN     999.000000     NaN  150000.000000          12.000000   \n",
       " \n",
       "        FuelType       Brand NotRepaired          DateCreated  \\\n",
       " count    305061      305061      305061               305061   \n",
       " unique        8          40           3                  107   \n",
       " top      petrol  volkswagen          no  2016-03-04 00:00:00   \n",
       " freq     190710       66554      229616                12041   \n",
       " first       NaN         NaN         NaN  2015-02-11 00:00:00   \n",
       " last        NaN         NaN         NaN  2016-12-03 00:00:00   \n",
       " mean        NaN         NaN         NaN                  NaN   \n",
       " std         NaN         NaN         NaN                  NaN   \n",
       " min         NaN         NaN         NaN                  NaN   \n",
       " 25%         NaN         NaN         NaN                  NaN   \n",
       " 50%         NaN         NaN         NaN                  NaN   \n",
       " 75%         NaN         NaN         NaN                  NaN   \n",
       " max         NaN         NaN         NaN                  NaN   \n",
       " \n",
       "                    LastSeen  \n",
       " count                305061  \n",
       " unique                17722  \n",
       " top     2016-06-04 04:45:00  \n",
       " freq                    573  \n",
       " first   2016-01-04 00:15:00  \n",
       " last    2016-12-03 23:54:00  \n",
       " mean                    NaN  \n",
       " std                     NaN  \n",
       " min                     NaN  \n",
       " 25%                     NaN  \n",
       " 50%                     NaN  \n",
       " 75%                     NaN  \n",
       " max                     NaN  )"
      ]
     },
     "execution_count": 6,
     "metadata": {},
     "output_type": "execute_result"
    }
   ],
   "source": [
    "# Converting date columns to datetime format\n",
    "date_columns = ['DateCrawled', 'DateCreated', 'LastSeen']\n",
    "for col in date_columns:\n",
    "    car_data[col] = pd.to_datetime(car_data[col], errors='coerce')\n",
    "\n",
    "# Handling missing values \n",
    "categorical_columns = ['VehicleType', 'Gearbox', 'Model', 'FuelType', 'NotRepaired']\n",
    "for col in categorical_columns:\n",
    "    car_data[col].fillna('unknown', inplace=True)\n",
    "\n",
    "# Filtering out unreasonable values for RegistrationYear, Power, and Price\n",
    "current_year = pd.Timestamp.now().year\n",
    "car_data = car_data[\n",
    "    (car_data['RegistrationYear'] >= 1900) & (car_data['RegistrationYear'] <= current_year)\n",
    "]\n",
    "car_data = car_data[(car_data['Power'] > 0) & (car_data['Power'] < 1000)]\n",
    "car_data = car_data[(car_data['Price'] > 100) & (car_data['Price'] < 100000)]\n",
    "\n",
    "# Dropping irrelevant columns\n",
    "car_data.drop(columns=['NumberOfPictures', 'PostalCode'], inplace=True)\n",
    "\n",
    "\n",
    "car_data.info(), car_data.describe(include='all')\n"
   ]
  },
  {
   "cell_type": "code",
   "execution_count": 7,
   "metadata": {},
   "outputs": [
    {
     "data": {
      "image/png": "[encoded data removed]",
      "text/plain": [
       "<Figure size 1200x600 with 1 Axes>"
      ]
     },
     "metadata": {},
     "output_type": "display_data"
    }
   ],
   "source": [
    "top_brands = car_data['Brand'].value_counts().head(10).index\n",
    "brand_prices = car_data[car_data['Brand'].isin(top_brands)]\n",
    "\n",
    "plt.figure(figsize=(12, 6))\n",
    "sns.boxplot(data=brand_prices, x='Brand', y='Price', order=top_brands)\n",
    "plt.title('Price Distribution by Top 10 Brands', fontsize=16)\n",
    "plt.xlabel('Brand', fontsize=12)\n",
    "plt.ylabel('Price (Euro)', fontsize=12)\n",
    "plt.xticks(rotation=45)\n",
    "plt.show()"
   ]
  },
  {
   "cell_type": "code",
   "execution_count": 8,
   "metadata": {},
   "outputs": [
    {
     "name": "stderr",
     "output_type": "stream",
     "text": [
      "/tmp/ipykernel_344/2782115123.py:15: SettingWithCopyWarning: \n",
      "A value is trying to be set on a copy of a slice from a DataFrame.\n",
      "Try using .loc[row_indexer,col_indexer] = value instead\n",
      "\n",
      "See the caveats in the documentation: https://pandas.pydata.org/pandas-docs/stable/user_guide/indexing.html#returning-a-view-versus-a-copy\n",
      "  X_train[numerical_features] = scaler.fit_transform(X_train[numerical_features])\n",
      "/opt/conda/envs/python3/lib/python3.9/site-packages/pandas/core/indexing.py:1738: SettingWithCopyWarning: \n",
      "A value is trying to be set on a copy of a slice from a DataFrame.\n",
      "Try using .loc[row_indexer,col_indexer] = value instead\n",
      "\n",
      "See the caveats in the documentation: https://pandas.pydata.org/pandas-docs/stable/user_guide/indexing.html#returning-a-view-versus-a-copy\n",
      "  self._setitem_single_column(loc, value[:, i].tolist(), pi)\n",
      "/tmp/ipykernel_344/2782115123.py:16: SettingWithCopyWarning: \n",
      "A value is trying to be set on a copy of a slice from a DataFrame.\n",
      "Try using .loc[row_indexer,col_indexer] = value instead\n",
      "\n",
      "See the caveats in the documentation: https://pandas.pydata.org/pandas-docs/stable/user_guide/indexing.html#returning-a-view-versus-a-copy\n",
      "  X_test[numerical_features] = scaler.transform(X_test[numerical_features])\n",
      "/opt/conda/envs/python3/lib/python3.9/site-packages/pandas/core/indexing.py:1738: SettingWithCopyWarning: \n",
      "A value is trying to be set on a copy of a slice from a DataFrame.\n",
      "Try using .loc[row_indexer,col_indexer] = value instead\n",
      "\n",
      "See the caveats in the documentation: https://pandas.pydata.org/pandas-docs/stable/user_guide/indexing.html#returning-a-view-versus-a-copy\n",
      "  self._setitem_single_column(loc, value[:, i].tolist(), pi)\n"
     ]
    },
    {
     "data": {
      "text/plain": [
       "(               DateCrawled  RegistrationYear     Power   Mileage  \\\n",
       " 163394 2016-01-04 14:06:00          1.393473 -0.633942 -2.408475   \n",
       " 262676 2016-03-18 18:25:00          0.240427  0.540917  0.588670   \n",
       " 206988 2016-03-29 10:58:00          1.969996 -0.413656  0.588670   \n",
       " 8118   2016-04-04 16:58:00         -0.624357 -0.560514  0.588670   \n",
       " 189279 2016-03-27 17:50:00          0.096296  0.026916  0.588670   \n",
       " \n",
       "         RegistrationMonth DateCreated            LastSeen  \\\n",
       " 163394          -1.383750  2016-01-04 2016-07-04 01:46:00   \n",
       " 262676          -0.827318  2016-03-18 2016-03-18 22:42:00   \n",
       " 206988          -0.827318  2016-03-29 2016-05-04 19:46:00   \n",
       " 8118             0.841977  2016-04-04 2016-04-04 16:58:00   \n",
       " 189279          -1.105534  2016-03-27 2016-06-04 15:15:00   \n",
       " \n",
       "         VehicleType_convertible  VehicleType_coupe  VehicleType_other  ...  \\\n",
       " 163394                        0                  0                  0  ...   \n",
       " 262676                        0                  0                  0  ...   \n",
       " 206988                        0                  0                  0  ...   \n",
       " 8118                          0                  0                  0  ...   \n",
       " 189279                        0                  0                  0  ...   \n",
       " \n",
       "         Brand_smart  Brand_sonstige_autos  Brand_subaru  Brand_suzuki  \\\n",
       " 163394            0                     0             0             0   \n",
       " 262676            0                     0             0             0   \n",
       " 206988            0                     0             0             1   \n",
       " 8118              0                     0             0             0   \n",
       " 189279            0                     0             0             0   \n",
       " \n",
       "         Brand_toyota  Brand_trabant  Brand_volkswagen  Brand_volvo  \\\n",
       " 163394             0              0                 0            0   \n",
       " 262676             0              0                 0            0   \n",
       " 206988             0              0                 0            0   \n",
       " 8118               0              0                 0            0   \n",
       " 189279             0              0                 0            0   \n",
       " \n",
       "         NotRepaired_unknown  NotRepaired_yes  \n",
       " 163394                    0                0  \n",
       " 262676                    0                0  \n",
       " 206988                    0                0  \n",
       " 8118                      0                0  \n",
       " 189279                    0                1  \n",
       " \n",
       " [5 rows x 314 columns],\n",
       " 163394    8150\n",
       " 262676    6650\n",
       " 206988     770\n",
       " 8118       500\n",
       " 189279    3700\n",
       " Name: Price, dtype: int64)"
      ]
     },
     "execution_count": 8,
     "metadata": {},
     "output_type": "execute_result"
    }
   ],
   "source": [
    "# Separating features and target\n",
    "X = car_data.drop(['Price'], axis=1)\n",
    "y = car_data['Price']\n",
    "\n",
    "# One-Hot Encoding categorical variables\n",
    "categorical_features = ['VehicleType', 'Gearbox', 'Model', 'FuelType', 'Brand', 'NotRepaired']\n",
    "X_encoded = pd.get_dummies(X, columns=categorical_features, drop_first=True)\n",
    "\n",
    "# Train-test split\n",
    "X_train, X_test, y_train, y_test = train_test_split(X_encoded, y, test_size=0.2, random_state=12345)\n",
    "\n",
    "# Scaling numerical features \n",
    "scaler = StandardScaler()\n",
    "numerical_features = ['Power', 'Mileage', 'RegistrationYear', 'RegistrationMonth']\n",
    "X_train[numerical_features] = scaler.fit_transform(X_train[numerical_features])\n",
    "X_test[numerical_features] = scaler.transform(X_test[numerical_features])\n",
    "\n",
    "X_train.head(), y_train.head()\n"
   ]
  },
  {
   "cell_type": "markdown",
   "metadata": {},
   "source": [
    "<div class=\"alert alert-block alert-success\">\n",
    "<b>Reviewer's comment</b> <a class=\"tocSkip\"></a>\n",
    "\n",
    "Very good EDA and data preprocessing\n",
    "</div>"
   ]
  },
  {
   "cell_type": "markdown",
   "metadata": {},
   "source": [
    "## Model training"
   ]
  },
  {
   "cell_type": "code",
   "execution_count": 9,
   "metadata": {},
   "outputs": [],
   "source": [
    "# Dropping datetime columns\n",
    "datetime_columns = ['DateCrawled', 'DateCreated', 'LastSeen']\n",
    "X_train = X_train.drop(columns=datetime_columns, errors='ignore')\n",
    "X_test = X_test.drop(columns=datetime_columns, errors='ignore')"
   ]
  },
  {
   "cell_type": "code",
   "execution_count": 10,
   "metadata": {},
   "outputs": [
    {
     "name": "stdout",
     "output_type": "stream",
     "text": [
      "Linear Regression RMSE: 2623.7230100564007\n",
      "CPU times: user 8.33 s, sys: 1.32 s, total: 9.64 s\n",
      "Wall time: 9.59 s\n"
     ]
    }
   ],
   "source": [
    "%%time\n",
    "\n",
    "# Training Linear Regression\n",
    "lr_model = LinearRegression()\n",
    "lr_model.fit(X_train, y_train)\n",
    "\n",
    "# Predicting and Evaluating\n",
    "y_pred_lr = lr_model.predict(X_test)\n",
    "rmse_lr = mean_squared_error(y_test, y_pred_lr, squared=False)\n",
    "print(f\"Linear Regression RMSE: {rmse_lr}\")\n"
   ]
  },
  {
   "cell_type": "code",
   "execution_count": 11,
   "metadata": {},
   "outputs": [
    {
     "name": "stdout",
     "output_type": "stream",
     "text": [
      "Random Forest RMSE: 1910.5998003264626\n",
      "CPU times: user 3min, sys: 168 ms, total: 3min\n",
      "Wall time: 3min\n"
     ]
    }
   ],
   "source": [
    "%%time\n",
    "\n",
    "# Training Random Forest\n",
    "rf_model = RandomForestRegressor(n_estimators=100, max_depth=10, random_state=12345, n_jobs=-1)\n",
    "rf_model.fit(X_train, y_train)\n",
    "\n",
    "# Predicting and Evaluating\n",
    "y_pred_rf = rf_model.predict(X_test)\n",
    "rmse_rf = mean_squared_error(y_test, y_pred_rf, squared=False)\n",
    "print(f\"Random Forest RMSE: {rmse_rf}\")\n"
   ]
  },
  {
   "cell_type": "code",
   "execution_count": 12,
   "metadata": {},
   "outputs": [
    {
     "name": "stdout",
     "output_type": "stream",
     "text": [
      "Decision Tree RMSE: 1990.732363250197\n",
      "CPU times: user 2.84 s, sys: 100 ms, total: 2.94 s\n",
      "Wall time: 2.95 s\n"
     ]
    }
   ],
   "source": [
    "%%time\n",
    "\n",
    "# Training Decision Tree Regressor\n",
    "dt_model = DecisionTreeRegressor(max_depth=10, random_state=12345)\n",
    "dt_model.fit(X_train, y_train)\n",
    "\n",
    "# Predicting and Evaluating\n",
    "y_pred_dt = dt_model.predict(X_test)\n",
    "rmse_dt = mean_squared_error(y_test, y_pred_dt, squared=False)\n",
    "print(f\"Decision Tree RMSE: {rmse_dt}\")\n"
   ]
  },
  {
   "cell_type": "code",
   "execution_count": 13,
   "metadata": {},
   "outputs": [
    {
     "name": "stdout",
     "output_type": "stream",
     "text": [
      "LightGBM RMSE: 1657.3901406440423\n",
      "CPU times: user 6.66 s, sys: 133 ms, total: 6.8 s\n",
      "Wall time: 6.79 s\n"
     ]
    }
   ],
   "source": [
    "%%time\n",
    "\n",
    "# Training LightGBM\n",
    "lgb_model = LGBMRegressor(n_estimators=200, max_depth=10, learning_rate=0.1, random_state=12345)\n",
    "lgb_model.fit(X_train, y_train)\n",
    "\n",
    "# Predicting and Evaluating\n",
    "y_pred_lgb = lgb_model.predict(X_test)\n",
    "rmse_lgb = mean_squared_error(y_test, y_pred_lgb, squared=False)\n",
    "print(f\"LightGBM RMSE: {rmse_lgb}\")\n"
   ]
  },
  {
   "cell_type": "markdown",
   "metadata": {},
   "source": [
    "<div class=\"alert alert-block alert-success\">\n",
    "<b>Reviewer's comment</b> <a class=\"tocSkip\"></a>\n",
    "\n",
    "Well done\n",
    "</div>"
   ]
  },
  {
   "cell_type": "markdown",
   "metadata": {},
   "source": [
    "## Model analysis"
   ]
  },
  {
   "cell_type": "markdown",
   "metadata": {},
   "source": [
    "Linear Regression: Achieves an RMSE of 2623.7, serving as a simple baseline model. Its training time is fast at around 9.48 seconds, making it suitable for quick evaluations.\n",
    "\n",
    "Decision Tree: Provides an RMSE of 1990.7, improving over Linear Regression with interpretable results. It trains efficiently at 3 seconds, but accuracy lags behind.\n",
    "\n",
    "Random Forest: Delivers an RMSE of 1910.6, with strong predictions due to total averaging. However, its training time is significantly higher at approximately 3 minutes, reflecting its complexity.\n",
    "\n",
    "LightGBM: Outperforms all models with an RMSE of 1657.4, combining high accuracy and efficiency. Its training time of 7 seconds makes it the best choice for balancing performance and speed."
   ]
  },
  {
   "cell_type": "markdown",
   "metadata": {},
   "source": [
    "## Conclusion"
   ]
  },
  {
   "cell_type": "markdown",
   "metadata": {},
   "source": [
    "To develop an efficient and accurate car valuation model for Rusty Bargain's app, I evaluated multiple machine learning models based on prediction quality, training speed, and overall efficiency. Given the need for high prediction quality, efficient model training, and real-time valuation capabilities, LightGBM is the most suitable choice for integration into Rusty Bargain's app. It ensures precise car valuations while maintaining responsiveness and scalability for a seamless user experience."
   ]
  },
  {
   "cell_type": "markdown",
   "metadata": {},
   "source": [
    "<div class=\"alert alert-block alert-success\">\n",
    "<b>Reviewer's comment</b> <a class=\"tocSkip\"></a>\n",
    "\n",
    "Excellent!\n",
    "</div>"
   ]
  },
  {
   "cell_type": "markdown",
   "metadata": {},
   "source": [
    "# Checklist"
   ]
  },
  {
   "cell_type": "markdown",
   "metadata": {},
   "source": [
    "Type 'x' to check. Then press Shift+Enter."
   ]
  },
  {
   "cell_type": "markdown",
   "metadata": {},
   "source": [
    "- [x]  Jupyter Notebook is open\n",
    "- [ ]  Code is error free\n",
    "- [ ]  The cells with the code have been arranged in order of execution\n",
    "- [ ]  The data has been downloaded and prepared\n",
    "- [ ]  The models have been trained\n",
    "- [ ]  The analysis of speed and quality of the models has been performed"
   ]
  },
  {
   "cell_type": "code",
   "execution_count": null,
   "metadata": {},
   "outputs": [],
   "source": []
  }
 ],
 "metadata": {
  "ExecuteTimeLog": [
   {
    "duration": 2854,
    "start_time": "2024-12-04T22:35:05.643Z"
   },
   {
    "duration": 454,
    "start_time": "2024-12-04T22:36:33.464Z"
   },
   {
    "duration": 1127,
    "start_time": "2024-12-04T22:36:53.058Z"
   },
   {
    "duration": 408,
    "start_time": "2024-12-04T22:36:54.187Z"
   },
   {
    "duration": 36427,
    "start_time": "2024-12-04T22:36:54.597Z"
   },
   {
    "duration": 55,
    "start_time": "2024-12-04T22:39:31.418Z"
   },
   {
    "duration": 11,
    "start_time": "2024-12-04T22:39:57.278Z"
   },
   {
    "duration": 18,
    "start_time": "2024-12-04T22:40:18.012Z"
   },
   {
    "duration": 1120,
    "start_time": "2024-12-04T22:40:30.122Z"
   },
   {
    "duration": 427,
    "start_time": "2024-12-04T22:40:31.245Z"
   },
   {
    "duration": 105,
    "start_time": "2024-12-04T22:40:31.674Z"
   },
   {
    "duration": 12,
    "start_time": "2024-12-04T22:40:31.781Z"
   },
   {
    "duration": 28,
    "start_time": "2024-12-04T22:40:31.795Z"
   },
   {
    "duration": 34990,
    "start_time": "2024-12-04T22:40:31.824Z"
   },
   {
    "duration": 337,
    "start_time": "2024-12-04T22:43:45.908Z"
   },
   {
    "duration": 904,
    "start_time": "2024-12-04T22:44:30.069Z"
   },
   {
    "duration": 427,
    "start_time": "2024-12-04T22:53:46.625Z"
   },
   {
    "duration": 1122,
    "start_time": "2024-12-04T22:53:59.328Z"
   },
   {
    "duration": 408,
    "start_time": "2024-12-04T22:54:00.452Z"
   },
   {
    "duration": 94,
    "start_time": "2024-12-04T22:54:00.862Z"
   },
   {
    "duration": 12,
    "start_time": "2024-12-04T22:54:00.958Z"
   },
   {
    "duration": 16,
    "start_time": "2024-12-04T22:54:00.973Z"
   },
   {
    "duration": 35261,
    "start_time": "2024-12-04T22:54:01.005Z"
   },
   {
    "duration": 358,
    "start_time": "2024-12-04T22:54:36.268Z"
   },
   {
    "duration": 886,
    "start_time": "2024-12-04T22:54:36.628Z"
   },
   {
    "duration": 438,
    "start_time": "2024-12-04T22:54:37.517Z"
   },
   {
    "duration": 9864,
    "start_time": "2024-12-04T22:57:01.065Z"
   },
   {
    "duration": 2728,
    "start_time": "2024-12-09T19:55:53.323Z"
   },
   {
    "duration": 458,
    "start_time": "2024-12-09T19:55:56.053Z"
   },
   {
    "duration": 95,
    "start_time": "2024-12-09T19:55:56.512Z"
   },
   {
    "duration": 13,
    "start_time": "2024-12-09T19:55:56.608Z"
   },
   {
    "duration": 17,
    "start_time": "2024-12-09T19:55:56.624Z"
   },
   {
    "duration": 36227,
    "start_time": "2024-12-09T19:55:56.643Z"
   },
   {
    "duration": 419,
    "start_time": "2024-12-09T19:56:32.872Z"
   },
   {
    "duration": 894,
    "start_time": "2024-12-09T19:56:33.293Z"
   },
   {
    "duration": 9610,
    "start_time": "2024-12-09T19:56:34.190Z"
   },
   {
    "duration": 179132,
    "start_time": "2024-12-09T19:56:43.802Z"
   },
   {
    "duration": 180063,
    "start_time": "2024-12-09T20:21:52.938Z"
   },
   {
    "duration": 1065,
    "start_time": "2024-12-09T20:33:40.262Z"
   },
   {
    "duration": 406,
    "start_time": "2024-12-09T20:33:41.330Z"
   },
   {
    "duration": 101,
    "start_time": "2024-12-09T20:33:41.737Z"
   },
   {
    "duration": 15,
    "start_time": "2024-12-09T20:33:41.840Z"
   },
   {
    "duration": 31,
    "start_time": "2024-12-09T20:33:41.860Z"
   },
   {
    "duration": 36265,
    "start_time": "2024-12-09T20:33:41.892Z"
   },
   {
    "duration": 345,
    "start_time": "2024-12-09T20:34:18.159Z"
   },
   {
    "duration": 902,
    "start_time": "2024-12-09T20:34:18.505Z"
   },
   {
    "duration": 9695,
    "start_time": "2024-12-09T20:34:19.408Z"
   },
   {
    "duration": 179722,
    "start_time": "2024-12-09T20:34:29.104Z"
   },
   {
    "duration": 3266606,
    "start_time": "2024-12-09T20:37:28.828Z"
   },
   {
    "duration": 215869,
    "start_time": "2024-12-09T21:31:55.436Z"
   },
   {
    "duration": 268267,
    "start_time": "2024-12-09T21:35:31.307Z"
   },
   {
    "duration": 3,
    "start_time": "2024-12-09T22:01:33.775Z"
   },
   {
    "duration": 1132,
    "start_time": "2024-12-09T22:20:50.146Z"
   },
   {
    "duration": 418,
    "start_time": "2024-12-09T22:20:51.280Z"
   },
   {
    "duration": 104,
    "start_time": "2024-12-09T22:20:51.700Z"
   },
   {
    "duration": 14,
    "start_time": "2024-12-09T22:20:51.806Z"
   },
   {
    "duration": 18,
    "start_time": "2024-12-09T22:20:51.822Z"
   },
   {
    "duration": 36686,
    "start_time": "2024-12-09T22:20:51.842Z"
   },
   {
    "duration": 356,
    "start_time": "2024-12-09T22:21:28.531Z"
   },
   {
    "duration": 1098,
    "start_time": "2024-12-09T22:21:28.889Z"
   },
   {
    "duration": 11101,
    "start_time": "2024-12-09T22:21:29.990Z"
   },
   {
    "duration": 185833,
    "start_time": "2024-12-09T22:21:41.093Z"
   },
   {
    "duration": 1055,
    "start_time": "2024-12-09T22:47:16.948Z"
   },
   {
    "duration": 412,
    "start_time": "2024-12-09T22:47:18.006Z"
   },
   {
    "duration": 102,
    "start_time": "2024-12-09T22:47:18.420Z"
   },
   {
    "duration": 14,
    "start_time": "2024-12-09T22:47:18.523Z"
   },
   {
    "duration": 16,
    "start_time": "2024-12-09T22:47:18.539Z"
   },
   {
    "duration": 35966,
    "start_time": "2024-12-09T22:47:18.557Z"
   },
   {
    "duration": 354,
    "start_time": "2024-12-09T22:47:54.525Z"
   },
   {
    "duration": 919,
    "start_time": "2024-12-09T22:47:54.881Z"
   },
   {
    "duration": 9991,
    "start_time": "2024-12-09T22:47:55.802Z"
   },
   {
    "duration": 181410,
    "start_time": "2024-12-09T22:48:05.795Z"
   },
   {
    "duration": 4455,
    "start_time": "2024-12-09T22:51:07.206Z"
   },
   {
    "duration": 3842,
    "start_time": "2024-12-09T22:51:11.663Z"
   },
   {
    "duration": 1083,
    "start_time": "2024-12-09T23:21:29.553Z"
   },
   {
    "duration": 408,
    "start_time": "2024-12-09T23:21:30.638Z"
   },
   {
    "duration": 100,
    "start_time": "2024-12-09T23:21:31.048Z"
   },
   {
    "duration": 14,
    "start_time": "2024-12-09T23:21:31.150Z"
   },
   {
    "duration": 38,
    "start_time": "2024-12-09T23:21:31.168Z"
   },
   {
    "duration": 37107,
    "start_time": "2024-12-09T23:21:31.207Z"
   },
   {
    "duration": 347,
    "start_time": "2024-12-09T23:22:08.316Z"
   },
   {
    "duration": 929,
    "start_time": "2024-12-09T23:22:08.665Z"
   },
   {
    "duration": 10314,
    "start_time": "2024-12-09T23:22:09.596Z"
   },
   {
    "duration": 58883,
    "start_time": "2024-12-09T23:22:19.912Z"
   },
   {
    "duration": 183754,
    "start_time": "2024-12-09T23:23:18.797Z"
   },
   {
    "duration": 1102,
    "start_time": "2024-12-09T23:28:59.865Z"
   },
   {
    "duration": 428,
    "start_time": "2024-12-09T23:29:00.969Z"
   },
   {
    "duration": 115,
    "start_time": "2024-12-09T23:29:01.399Z"
   },
   {
    "duration": 14,
    "start_time": "2024-12-09T23:29:01.516Z"
   },
   {
    "duration": 18,
    "start_time": "2024-12-09T23:29:01.533Z"
   },
   {
    "duration": 36991,
    "start_time": "2024-12-09T23:29:01.553Z"
   },
   {
    "duration": 349,
    "start_time": "2024-12-09T23:29:38.546Z"
   },
   {
    "duration": 890,
    "start_time": "2024-12-09T23:29:38.897Z"
   },
   {
    "duration": 73,
    "start_time": "2024-12-09T23:29:39.790Z"
   },
   {
    "duration": 0,
    "start_time": "2024-12-09T23:29:39.865Z"
   },
   {
    "duration": 0,
    "start_time": "2024-12-09T23:29:39.866Z"
   },
   {
    "duration": 0,
    "start_time": "2024-12-09T23:29:39.867Z"
   },
   {
    "duration": 5,
    "start_time": "2024-12-09T23:30:24.115Z"
   },
   {
    "duration": 375,
    "start_time": "2024-12-09T23:30:25.293Z"
   },
   {
    "duration": 1103,
    "start_time": "2024-12-09T23:30:31.043Z"
   },
   {
    "duration": 415,
    "start_time": "2024-12-09T23:30:32.149Z"
   },
   {
    "duration": 107,
    "start_time": "2024-12-09T23:30:32.566Z"
   },
   {
    "duration": 19,
    "start_time": "2024-12-09T23:30:32.675Z"
   },
   {
    "duration": 20,
    "start_time": "2024-12-09T23:30:32.697Z"
   },
   {
    "duration": 37084,
    "start_time": "2024-12-09T23:30:32.719Z"
   },
   {
    "duration": 351,
    "start_time": "2024-12-09T23:31:09.804Z"
   },
   {
    "duration": 890,
    "start_time": "2024-12-09T23:31:10.157Z"
   },
   {
    "duration": 86,
    "start_time": "2024-12-09T23:31:11.049Z"
   },
   {
    "duration": 0,
    "start_time": "2024-12-09T23:31:11.137Z"
   },
   {
    "duration": 0,
    "start_time": "2024-12-09T23:31:11.138Z"
   },
   {
    "duration": 0,
    "start_time": "2024-12-09T23:31:11.140Z"
   },
   {
    "duration": 24,
    "start_time": "2024-12-09T23:32:59.654Z"
   },
   {
    "duration": 1100,
    "start_time": "2024-12-09T23:33:19.440Z"
   },
   {
    "duration": 411,
    "start_time": "2024-12-09T23:33:20.543Z"
   },
   {
    "duration": 97,
    "start_time": "2024-12-09T23:33:20.955Z"
   },
   {
    "duration": 14,
    "start_time": "2024-12-09T23:33:21.054Z"
   },
   {
    "duration": 31,
    "start_time": "2024-12-09T23:33:21.072Z"
   },
   {
    "duration": 35612,
    "start_time": "2024-12-09T23:33:21.104Z"
   },
   {
    "duration": 345,
    "start_time": "2024-12-09T23:33:56.718Z"
   },
   {
    "duration": 897,
    "start_time": "2024-12-09T23:33:57.064Z"
   },
   {
    "duration": 78,
    "start_time": "2024-12-09T23:33:57.963Z"
   },
   {
    "duration": 59071,
    "start_time": "2024-12-09T23:33:58.042Z"
   },
   {
    "duration": 1081440,
    "start_time": "2024-12-09T23:34:57.115Z"
   },
   {
    "duration": 18124,
    "start_time": "2024-12-09T23:52:58.558Z"
   },
   {
    "duration": 42023,
    "start_time": "2024-12-09T23:53:16.687Z"
   },
   {
    "duration": 1109,
    "start_time": "2024-12-10T02:36:07.428Z"
   },
   {
    "duration": 423,
    "start_time": "2024-12-10T02:36:08.540Z"
   },
   {
    "duration": 99,
    "start_time": "2024-12-10T02:36:08.964Z"
   },
   {
    "duration": 23,
    "start_time": "2024-12-10T02:36:09.065Z"
   },
   {
    "duration": 18,
    "start_time": "2024-12-10T02:36:09.091Z"
   },
   {
    "duration": 36367,
    "start_time": "2024-12-10T02:36:09.111Z"
   },
   {
    "duration": 337,
    "start_time": "2024-12-10T02:36:45.486Z"
   },
   {
    "duration": 882,
    "start_time": "2024-12-10T02:36:45.825Z"
   },
   {
    "duration": 82,
    "start_time": "2024-12-10T02:36:46.709Z"
   },
   {
    "duration": 58320,
    "start_time": "2024-12-10T02:36:46.794Z"
   },
   {
    "duration": 1126,
    "start_time": "2024-12-10T02:43:11.799Z"
   },
   {
    "duration": 425,
    "start_time": "2024-12-10T02:43:12.927Z"
   },
   {
    "duration": 107,
    "start_time": "2024-12-10T02:43:13.354Z"
   },
   {
    "duration": 25,
    "start_time": "2024-12-10T02:43:13.462Z"
   },
   {
    "duration": 19,
    "start_time": "2024-12-10T02:43:13.490Z"
   },
   {
    "duration": 36936,
    "start_time": "2024-12-10T02:43:13.511Z"
   },
   {
    "duration": 358,
    "start_time": "2024-12-10T02:43:50.449Z"
   },
   {
    "duration": 909,
    "start_time": "2024-12-10T02:43:50.809Z"
   },
   {
    "duration": 80,
    "start_time": "2024-12-10T02:43:51.720Z"
   },
   {
    "duration": 9787,
    "start_time": "2024-12-10T02:43:51.801Z"
   },
   {
    "duration": 1092,
    "start_time": "2024-12-10T02:44:43.637Z"
   },
   {
    "duration": 421,
    "start_time": "2024-12-10T02:44:44.732Z"
   },
   {
    "duration": 96,
    "start_time": "2024-12-10T02:44:45.155Z"
   },
   {
    "duration": 13,
    "start_time": "2024-12-10T02:44:45.253Z"
   },
   {
    "duration": 30,
    "start_time": "2024-12-10T02:44:45.269Z"
   },
   {
    "duration": 35865,
    "start_time": "2024-12-10T02:44:45.300Z"
   },
   {
    "duration": 360,
    "start_time": "2024-12-10T02:45:21.167Z"
   },
   {
    "duration": 894,
    "start_time": "2024-12-10T02:45:21.529Z"
   },
   {
    "duration": 82,
    "start_time": "2024-12-10T02:45:22.426Z"
   },
   {
    "duration": 9481,
    "start_time": "2024-12-10T02:45:22.510Z"
   },
   {
    "duration": 180204,
    "start_time": "2024-12-10T02:45:31.996Z"
   },
   {
    "duration": 2992,
    "start_time": "2024-12-10T02:48:32.202Z"
   },
   {
    "duration": 12301,
    "start_time": "2024-12-10T02:48:35.196Z"
   },
   {
    "duration": 1057,
    "start_time": "2024-12-10T02:51:21.680Z"
   },
   {
    "duration": 431,
    "start_time": "2024-12-10T02:51:22.740Z"
   },
   {
    "duration": 105,
    "start_time": "2024-12-10T02:51:23.173Z"
   },
   {
    "duration": 14,
    "start_time": "2024-12-10T02:51:23.280Z"
   },
   {
    "duration": 19,
    "start_time": "2024-12-10T02:51:23.297Z"
   },
   {
    "duration": 36541,
    "start_time": "2024-12-10T02:51:23.317Z"
   },
   {
    "duration": 360,
    "start_time": "2024-12-10T02:51:59.859Z"
   },
   {
    "duration": 916,
    "start_time": "2024-12-10T02:52:00.221Z"
   },
   {
    "duration": 80,
    "start_time": "2024-12-10T02:52:01.139Z"
   },
   {
    "duration": 9665,
    "start_time": "2024-12-10T02:52:01.221Z"
   },
   {
    "duration": 180462,
    "start_time": "2024-12-10T02:52:10.889Z"
   },
   {
    "duration": 2950,
    "start_time": "2024-12-10T02:55:11.354Z"
   },
   {
    "duration": 6797,
    "start_time": "2024-12-10T02:55:14.306Z"
   }
  ],
  "kernelspec": {
   "display_name": "Python 3 (ipykernel)",
   "language": "python",
   "name": "python3"
  },
  "language_info": {
   "codemirror_mode": {
    "name": "ipython",
    "version": 3
   },
   "file_extension": ".py",
   "mimetype": "text/x-python",
   "name": "python",
   "nbconvert_exporter": "python",
   "pygments_lexer": "ipython3",
   "version": "3.12.4"
  },
  "toc": {
   "base_numbering": 1,
   "nav_menu": {},
   "number_sections": true,
   "sideBar": true,
   "skip_h1_title": true,
   "title_cell": "Table of Contents",
   "title_sidebar": "Contents",
   "toc_cell": false,
   "toc_position": {},
   "toc_section_display": true,
   "toc_window_display": false
  }
 },
 "nbformat": 4,
 "nbformat_minor": 4
}
